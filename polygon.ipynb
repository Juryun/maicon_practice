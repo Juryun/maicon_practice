{
 "cells": [
  {
   "cell_type": "code",
   "execution_count": 2,
   "id": "aba3a9d9",
   "metadata": {},
   "outputs": [],
   "source": [
    "import os, json, glob, shutil\n",
    "from PIL import Image\n",
    "from shapely import geometry       #conda install -c conda-forge shapely\n",
    "import PIL.ImageDraw as ImageDraw\n",
    "import numpy as np\n",
    "from sklearn.model_selection import train_test_split\n",
    "import pandas as pd\n",
    "import cv2            #pip install opencv-python\n",
    "from matplotlib import pyplot as plt\n",
    "from tqdm import tqdm"
   ]
  },
  {
   "cell_type": "code",
   "execution_count": 3,
   "id": "d6e9c733",
   "metadata": {},
   "outputs": [],
   "source": [
    "def read_json_file(json_path):\n",
    "    with open(json_path, encoding='utf-8-sig') as f:\n",
    "        data = json.load(f)\n",
    "    return data"
   ]
  },
  {
   "cell_type": "code",
   "execution_count": 4,
   "id": "02b8b0c4",
   "metadata": {},
   "outputs": [],
   "source": [
    "root_dir = \"datasets/\"\n",
    "\n",
    "# <set the path to json and image files>\n",
    "json_file_path = root_dir + \"json/*.json\"\n",
    "image_file_path = root_dir + 'image/*.tif'\n",
    "save_path = os.path.basename(root_dir)\n",
    "json_files = glob.glob(json_file_path) \n",
    "image_files  = glob.glob(image_file_path, recursive=True)"
   ]
  },
  {
   "cell_type": "code",
   "execution_count": 5,
   "id": "657a2c7a",
   "metadata": {},
   "outputs": [
    {
     "name": "stdout",
     "output_type": "stream",
     "text": [
      "Read polygons...\n"
     ]
    }
   ],
   "source": [
    "print(\"Read polygons...\")\n",
    "total_polygons = []\n",
    "dataset = []\n",
    "for i in range(len(image_files)):   \n",
    "    image_name = os.path.basename(image_files[i])\n",
    "    json_file = [ j for j in json_files if image_name in j]\n",
    "    if len(json_file) == 0:\n",
    "        dataset.append({\"image-name\":  image_files[i],'polygons':[],'points':[], 'shift':[]})\n",
    "        continue\n",
    "    json_file = json_file[0]\n",
    "    json_data = read_json_file(json_file)\n",
    "    each_image_data = []\n",
    "    polygons = []\n",
    "    points = []\n",
    "    shifts = []\n",
    "    each_image_data = {\"image-name\": image_files[i]}  \n",
    "    for annotation in json_data['annotations']:\n",
    "        polygons.append(geometry.Polygon(annotation['polygon.points']))\n",
    "        points.append(annotation['polygon.points'])\n",
    "        shifts.append(annotation['polygon.shift'])\n",
    "        total_polygons.append(geometry.Polygon(annotation['polygon.points']))\n",
    "    \n",
    "    each_image_data['polygons'] = polygons\n",
    "    each_image_data['points'] = points\n",
    "    each_image_data['shifts'] = shifts\n",
    "    dataset.append(each_image_data)"
   ]
  },
  {
   "cell_type": "code",
   "execution_count": 7,
   "id": "51f079d5",
   "metadata": {
    "scrolled": false
   },
   "outputs": [
    {
     "name": "stderr",
     "output_type": "stream",
     "text": [
      "100%|████████████████████████████████████████████████████████████████████████████████| 360/360 [01:01<00:00,  5.84it/s]\n"
     ]
    }
   ],
   "source": [
    "#print(dataset[0])\n",
    "cnt = 1\n",
    "for data in tqdm(dataset):\n",
    "    img_name = data['image-name']\n",
    "    points = data['points']\n",
    "    img = cv2.imread(img_name)\n",
    "    #0신축 1소멸 2갱신\n",
    "    for point in points:\n",
    "        pts = np.array(point, np.int32).reshape((-1,1,2))\n",
    "        cv2.polylines(img,[pts], True, (0,0,255), thickness = 3)\n",
    "    cnt+=1\n",
    "    save_name = save_path+\"datasets/polygon/\" + str(cnt)+ \".png\"\n",
    "    #print(save_name)\n",
    "    cv2.imwrite(save_name, img)"
   ]
  },
  {
   "cell_type": "code",
   "execution_count": null,
   "id": "ddc6fb96",
   "metadata": {},
   "outputs": [],
   "source": []
  }
 ],
 "metadata": {
  "kernelspec": {
   "display_name": "Python 3 (ipykernel)",
   "language": "python",
   "name": "python3"
  },
  "language_info": {
   "codemirror_mode": {
    "name": "ipython",
    "version": 3
   },
   "file_extension": ".py",
   "mimetype": "text/x-python",
   "name": "python",
   "nbconvert_exporter": "python",
   "pygments_lexer": "ipython3",
   "version": "3.9.12"
  }
 },
 "nbformat": 4,
 "nbformat_minor": 5
}
